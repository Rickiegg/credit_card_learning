{
 "cells": [
  {
   "cell_type": "markdown",
   "metadata": {},
   "source": [
    "#coding=utf-8\n",
    "import pandas as pd\n",
    "import matplotlib.pyplot as plt\n",
    "import seaborn as sns\n",
    "from sklearn.model_selection import train_test_split\n",
    "import datetime\n",
    "\n",
    "\n",
    "%matplotlib inline\n",
    "data=pd.read_csv('/Users/rickie/Desktop/金融信贷风控的机器学习实战课件（评分卡）/第二课：代码和数据/application.csv',encoding='ISO-8859-1')\n",
    "data.desc.unique()"
   ]
  },
  {
   "cell_type": "markdown",
   "metadata": {},
   "source": [
    "# Data Cleaning"
   ]
  },
  {
   "cell_type": "code",
   "execution_count": null,
   "metadata": {},
   "outputs": [],
   "source": [
    "data['term_new']=data['term'].apply(lambda x: int(x.replace('months','')))\n",
    "data['y']=data['loan_status'].apply(lambda x: int(x=='Charged Off'))\n",
    "data1=data[data.term_new==36]\n",
    "data1\n",
    "train,test=train_test_split(data1,test_size=0.4)\n"
   ]
  },
  {
   "cell_type": "code",
   "execution_count": null,
   "metadata": {},
   "outputs": [],
   "source": [
    "import re\n",
    "pd.options.display.max_rows=10\n",
    "train['int_rate_cl']=train['int_rate'].map(lambda x: float(x.replace('%',''))/100)\n",
    "\n",
    "def CareerYear(x):\n",
    "    if x.find('n/a')>-1:\n",
    "        return -1\n",
    "    elif x.find('10+')>-1:\n",
    "        return 11\n",
    "    elif x.find('<1')>-1:\n",
    "        return 0\n",
    "    else:\n",
    "        return int(re.sub('\\D',\"\",x))#所有非数字字符改为空\n",
    "train['emp_length_cl']=train['emp_length'].map(CareerYear)\n"
   ]
  },
  {
   "cell_type": "code",
   "execution_count": null,
   "metadata": {},
   "outputs": [],
   "source": [
    "def DescExist(x):\n",
    "    x1=str(x)\n",
    "    if x1=='nan':\n",
    "        return 'no desc'\n",
    "    else:\n",
    "        return 'desc'\n",
    "train['desc_cl']=train.desc.map(DescExist)\n",
    "train"
   ]
  },
  {
   "cell_type": "code",
   "execution_count": 442,
   "metadata": {},
   "outputs": [
    {
     "name": "stderr",
     "output_type": "stream",
     "text": [
      "/Users/rickie/anaconda3/lib/python3.6/site-packages/ipykernel_launcher.py:7: SettingWithCopyWarning: \n",
      "A value is trying to be set on a copy of a slice from a DataFrame.\n",
      "Try using .loc[row_indexer,col_indexer] = value instead\n",
      "\n",
      "See the caveats in the documentation: http://pandas.pydata.org/pandas-docs/stable/indexing.html#indexing-view-versus-copy\n",
      "  import sys\n",
      "/Users/rickie/anaconda3/lib/python3.6/site-packages/ipykernel_launcher.py:8: SettingWithCopyWarning: \n",
      "A value is trying to be set on a copy of a slice from a DataFrame.\n",
      "Try using .loc[row_indexer,col_indexer] = value instead\n",
      "\n",
      "See the caveats in the documentation: http://pandas.pydata.org/pandas-docs/stable/indexing.html#indexing-view-versus-copy\n",
      "  \n"
     ]
    },
    {
     "data": {
      "text/plain": [
       "13256   2000-09-01\n",
       "17411   2007-06-01\n",
       "17304   1999-07-01\n",
       "13930   2006-05-01\n",
       "33548   1996-10-01\n",
       "           ...    \n",
       "9400    1996-12-01\n",
       "36322   2001-12-01\n",
       "7044    1998-06-01\n",
       "7208    2000-01-01\n",
       "1355    2001-11-01\n",
       "Name: ear_cr_line_cl, Length: 17457, dtype: datetime64[ns]"
      ]
     },
     "execution_count": 442,
     "metadata": {},
     "output_type": "execute_result"
    }
   ],
   "source": [
    "import time\n",
    "def ConvertDateStr(x,format):\n",
    "    if str(x)=='nan':\n",
    "        return datetime.datetime.fromtimestamp(time.mktime(time.strptime('9900-1','%Y-%m')))\n",
    "    else:\n",
    "        return datetime.datetime.fromtimestamp(time.mktime(time.strptime(x,format)))\n",
    "train['issue_d_cl']=train.issue_d.map(lambda x: ConvertDateStr(x,'%b-%y'))\n",
    "train['ear_cr_line_cl']=train.earliest_cr_line.map(lambda x: ConvertDateStr(x,'%b-%y'))\n",
    "train.ear_cr_line_cl\n",
    "       "
   ]
  },
  {
   "cell_type": "code",
   "execution_count": 111,
   "metadata": {},
   "outputs": [
    {
     "name": "stderr",
     "output_type": "stream",
     "text": [
      "/Users/rickie/anaconda3/lib/python3.6/site-packages/ipykernel_launcher.py:7: SettingWithCopyWarning: \n",
      "A value is trying to be set on a copy of a slice from a DataFrame.\n",
      "Try using .loc[row_indexer,col_indexer] = value instead\n",
      "\n",
      "See the caveats in the documentation: http://pandas.pydata.org/pandas-docs/stable/indexing.html#indexing-view-versus-copy\n",
      "  import sys\n",
      "/Users/rickie/anaconda3/lib/python3.6/site-packages/ipykernel_launcher.py:8: SettingWithCopyWarning: \n",
      "A value is trying to be set on a copy of a slice from a DataFrame.\n",
      "Try using .loc[row_indexer,col_indexer] = value instead\n",
      "\n",
      "See the caveats in the documentation: http://pandas.pydata.org/pandas-docs/stable/indexing.html#indexing-view-versus-copy\n",
      "  \n",
      "/Users/rickie/anaconda3/lib/python3.6/site-packages/ipykernel_launcher.py:9: SettingWithCopyWarning: \n",
      "A value is trying to be set on a copy of a slice from a DataFrame.\n",
      "Try using .loc[row_indexer,col_indexer] = value instead\n",
      "\n",
      "See the caveats in the documentation: http://pandas.pydata.org/pandas-docs/stable/indexing.html#indexing-view-versus-copy\n",
      "  if __name__ == '__main__':\n"
     ]
    },
    {
     "data": {
      "text/plain": [
       "member_id                    17457\n",
       "loan_amnt                    17457\n",
       "term                         17457\n",
       "loan_status                  17457\n",
       "int_rate                     17457\n",
       "                             ...  \n",
       "mths_since_last_delinq_cl    17457\n",
       "mths_since_last_record_cl    17457\n",
       "pub_rec_bankruptcies_cl      17457\n",
       "amt_to_inc                   17457\n",
       "ear_to_iss                   17457\n",
       "Length: 37, dtype: int64"
      ]
     },
     "execution_count": 111,
     "metadata": {},
     "output_type": "execute_result"
    }
   ],
   "source": [
    "import numpy as np\n",
    "def MakeupMissing(x):\n",
    "    if np.isnan(x):\n",
    "        return -1\n",
    "    else:\n",
    "        return x\n",
    "train['mths_since_last_delinq_cl']=train['mths_since_last_delinq'].map(lambda x: MakeupMissing(x))\n",
    "train['mths_since_last_record_cl'] = train['mths_since_last_record'].map(lambda x:MakeupMissing(x))\n",
    "train['pub_rec_bankruptcies_cl'] = train['pub_rec_bankruptcies'].map(lambda x:MakeupMissing(x))\n",
    "train.count()\n"
   ]
  },
  {
   "cell_type": "markdown",
   "metadata": {},
   "source": [
    "## 特征衍生"
   ]
  },
  {
   "cell_type": "code",
   "execution_count": null,
   "metadata": {},
   "outputs": [],
   "source": [
    "train['amt_to_inc']=train.apply(lambda x:x.loan_amnt/x.annual_inc,axis=1)\n",
    "train.info()"
   ]
  },
  {
   "cell_type": "code",
   "execution_count": 302,
   "metadata": {},
   "outputs": [
    {
     "name": "stdout",
     "output_type": "stream",
     "text": [
      "<class 'pandas.core.frame.DataFrame'>\n",
      "Int64Index: 17457 entries, 13256 to 1355\n",
      "Data columns (total 46 columns):\n",
      "member_id                    17457 non-null int64\n",
      "loan_amnt                    17457 non-null int64\n",
      "term                         17457 non-null object\n",
      "loan_status                  17457 non-null object\n",
      "int_rate                     17457 non-null object\n",
      "emp_length                   17457 non-null object\n",
      "home_ownership               17457 non-null object\n",
      "annual_inc                   17457 non-null float64\n",
      "verification_status          17457 non-null object\n",
      "desc                         11886 non-null object\n",
      "purpose                      17457 non-null object\n",
      "title                        17453 non-null object\n",
      "zip_code                     17457 non-null object\n",
      "addr_state                   17457 non-null object\n",
      "dti                          17457 non-null float64\n",
      "delinq_2yrs                  17457 non-null int64\n",
      "inq_last_6mths               17457 non-null int64\n",
      "mths_since_last_delinq       6247 non-null float64\n",
      "mths_since_last_record       1317 non-null float64\n",
      "open_acc                     17457 non-null int64\n",
      "pub_rec                      17457 non-null int64\n",
      "total_acc                    17457 non-null int64\n",
      "pub_rec_bankruptcies         17058 non-null float64\n",
      "issue_d                      17457 non-null object\n",
      "earliest_cr_line             17457 non-null object\n",
      "term_new                     17457 non-null int64\n",
      "y                            17457 non-null int64\n",
      "int_rate_cl                  17457 non-null float64\n",
      "emp_length_cl                17457 non-null int64\n",
      "desc_cl                      17457 non-null object\n",
      "issue_d_cl                   17457 non-null datetime64[ns]\n",
      "ear_cr_line_cl               17457 non-null datetime64[ns]\n",
      "mths_since_last_delinq_cl    17457 non-null float64\n",
      "mths_since_last_record_cl    17457 non-null float64\n",
      "pub_rec_bankruptcies_cl      17457 non-null float64\n",
      "amt_to_inc                   17457 non-null float64\n",
      "ear_to_iss                   17457 non-null int64\n",
      "purpose_br_encoding          17457 non-null float64\n",
      "zip_code_br_encoding         17457 non-null float64\n",
      "addr_state_br_encoding       17457 non-null float64\n",
      "int_rate_cl_Bin              17457 non-null object\n",
      "emp_length_cl_Bin            17457 non-null object\n",
      "annual_inc_Bin               17457 non-null object\n",
      "dti_Bin                      17457 non-null object\n",
      "delinq_2yrs_Bin              17457 non-null object\n",
      "earliest_cr_to_app           17457 non-null int64\n",
      "dtypes: datetime64[ns](2), float64(13), int64(12), object(19)\n",
      "memory usage: 6.9+ MB\n"
     ]
    },
    {
     "name": "stderr",
     "output_type": "stream",
     "text": [
      "/Users/rickie/anaconda3/lib/python3.6/site-packages/ipykernel_launcher.py:12: SettingWithCopyWarning: \n",
      "A value is trying to be set on a copy of a slice from a DataFrame.\n",
      "Try using .loc[row_indexer,col_indexer] = value instead\n",
      "\n",
      "See the caveats in the documentation: http://pandas.pydata.org/pandas-docs/stable/indexing.html#indexing-view-versus-copy\n",
      "  if sys.path[0] == '':\n"
     ]
    }
   ],
   "source": [
    "from dateutil.relativedelta import relativedelta\n",
    "\n",
    "def MonthGap(ear,late):\n",
    "    if late>ear:\n",
    "        gap=relativedelta(late,ear)\n",
    "        yr=gap.years\n",
    "        mth=gap.months\n",
    "        return yr*12+mth\n",
    "    else:\n",
    "        return 0\n",
    "    \n",
    "train['earliest_cr_to_app']=train.apply(lambda x: MonthGap(x.ear_cr_line_cl,x.issue_d_cl),axis=1)\n",
    "train.info()"
   ]
  },
  {
   "cell_type": "markdown",
   "metadata": {},
   "source": [
    "# Explortory Data Analysis"
   ]
  },
  {
   "cell_type": "code",
   "execution_count": 109,
   "metadata": {},
   "outputs": [
    {
     "data": {
      "text/html": [
       "<div>\n",
       "<style>\n",
       "    .dataframe thead tr:only-child th {\n",
       "        text-align: right;\n",
       "    }\n",
       "\n",
       "    .dataframe thead th {\n",
       "        text-align: left;\n",
       "    }\n",
       "\n",
       "    .dataframe tbody tr th {\n",
       "        vertical-align: top;\n",
       "    }\n",
       "</style>\n",
       "<table border=\"1\" class=\"dataframe\">\n",
       "  <thead>\n",
       "    <tr style=\"text-align: right;\">\n",
       "      <th></th>\n",
       "      <th>MORTGAGE</th>\n",
       "      <th>OWN</th>\n",
       "      <th>RENT</th>\n",
       "      <th>OTHER</th>\n",
       "      <th>NONE</th>\n",
       "    </tr>\n",
       "    <tr>\n",
       "      <th>loan_status</th>\n",
       "      <th></th>\n",
       "      <th></th>\n",
       "      <th></th>\n",
       "      <th></th>\n",
       "      <th></th>\n",
       "    </tr>\n",
       "  </thead>\n",
       "  <tbody>\n",
       "    <tr>\n",
       "      <th>Charged Off</th>\n",
       "      <td>13.818269</td>\n",
       "      <td>13.698767</td>\n",
       "      <td>13.879058</td>\n",
       "      <td>13.185556</td>\n",
       "      <td>NaN</td>\n",
       "    </tr>\n",
       "    <tr>\n",
       "      <th>Fully Paid</th>\n",
       "      <td>11.469996</td>\n",
       "      <td>11.444799</td>\n",
       "      <td>12.018963</td>\n",
       "      <td>11.783375</td>\n",
       "      <td>8.696667</td>\n",
       "    </tr>\n",
       "  </tbody>\n",
       "</table>\n",
       "</div>"
      ],
      "text/plain": [
       "              MORTGAGE        OWN       RENT      OTHER      NONE\n",
       "loan_status                                                      \n",
       "Charged Off  13.818269  13.698767  13.879058  13.185556       NaN\n",
       "Fully Paid   11.469996  11.444799  12.018963  11.783375  8.696667"
      ]
     },
     "execution_count": 109,
     "metadata": {},
     "output_type": "execute_result"
    },
    {
     "data": {
      "image/png": "[encoded data removed]",
      "text/plain": [
       "<matplotlib.figure.Figure at 0x1abf4a07b8>"
      ]
     },
     "metadata": {},
     "output_type": "display_data"
    }
   ],
   "source": [
    "data['int_rate_float']=data.int_rate.str.strip('%').astype(float)\n",
    "table1=data.groupby(['loan_status','home_ownership']).int_rate_float.mean().unstack()\n",
    "table1=pd.DataFrame(table1,columns=['MORTGAGE','OWN','RENT','OTHER','NONE'])\n",
    "fig,axes=plt.subplots(2,1,figsize=(10,8))\n",
    "table1.loc['Fully Paid',].plot(title='Fully Paid',ax=axes[0])\n",
    "table1.loc['Charged Off',].plot(title='Charged Off',ax=axes[1])\n",
    "plt.subplots_adjust(hspace=0.3)\n",
    "table1"
   ]
  },
  {
   "cell_type": "code",
   "execution_count": null,
   "metadata": {},
   "outputs": [],
   "source": [
    "plt.boxplot(data.loan_amnt)\n",
    "data.count()"
   ]
  },
  {
   "cell_type": "markdown",
   "metadata": {},
   "source": [
    "### 日期处理"
   ]
  },
  {
   "cell_type": "code",
   "execution_count": null,
   "metadata": {},
   "outputs": [],
   "source": [
    "from dateutil.parser import parse\n",
    "d_=list(data.issue_d)\n",
    "date_list=[]\n",
    "for date in d_:\n",
    "    date=parse(date)\n",
    "    date=date.strftime('%Y-%m-%d')\n",
    "    date_list.append(date)\n",
    "date_series=pd.Series(date_list)\n",
    "\n",
    "data['issue_d_ymd']=date_list\n",
    "data.head()"
   ]
  },
  {
   "cell_type": "code",
   "execution_count": null,
   "metadata": {},
   "outputs": [],
   "source": [
    "data['int_rate_float']=data.int_rate.str.strip('%').astype(float)\n",
    "data.groupby('home_ownership').int_rate_float.mean().sort_values(ascending=False)\n",
    "sns.barplot(x='int_rate_float',y='home_ownership',data=data)\n",
    "count_owner"
   ]
  },
  {
   "cell_type": "code",
   "execution_count": null,
   "metadata": {},
   "outputs": [],
   "source": [
    "\n",
    "count_owner=data.groupby('home_ownership').size().sort_values(ascending=False)\n",
    "fig,ax=plt.subplots(2,1,figsize=(10,8))\n",
    "count_owner.plot(kind='bar',ax=ax[0])\n",
    "sns.countplot(data.home_ownership,ax=ax[1])\n",
    "ax[0].set_xticklabels(labels=count_owner.index,rotation=30)\n",
    "plt.subplots_adjust(hspace=0.5)"
   ]
  },
  {
   "cell_type": "code",
   "execution_count": null,
   "metadata": {},
   "outputs": [],
   "source": [
    "fig=plt.figure()\n",
    "ax1=fig.add_subplot(1,2,1)\n",
    "ax2=fig.add_subplot(1,2,2)\n",
    "\n",
    "ax1.hist(data.loan_amnt)\n",
    "ax2.boxplot(data.annual_inc)\n",
    "plt.subplots_adjust(wspace=0.6)\n",
    "plt.show()\n",
    "\n"
   ]
  },
  {
   "cell_type": "code",
   "execution_count": null,
   "metadata": {},
   "outputs": [],
   "source": [
    "plt.scatter(x=data.annual_inc,y=data.loan_amnt)"
   ]
  },
  {
   "cell_type": "markdown",
   "metadata": {},
   "source": [
    "# 特征分箱"
   ]
  },
  {
   "cell_type": "code",
   "execution_count": 351,
   "metadata": {},
   "outputs": [
    {
     "name": "stdout",
     "output_type": "stream",
     "text": [
      "5\n",
      "3\n",
      "2\n",
      "14\n",
      "773\n",
      "50\n",
      "4\n"
     ]
    },
    {
     "data": {
      "text/plain": [
       "({'MORTGAGE': 0.096436923923510803,\n",
       "  'NONE': 0.0,\n",
       "  'OTHER': 0.13559322033898305,\n",
       "  'OWN': 0.11197732104890148,\n",
       "  'RENT': 0.11761331038439472},\n",
       "   home_ownership  total   bad  bad_rate\n",
       " 0       MORTGAGE   7269   701  0.096437\n",
       " 1           NONE      3     0  0.000000\n",
       " 2          OTHER     59     8  0.135593\n",
       " 3            OWN   1411   158  0.111977\n",
       " 4           RENT   8715  1025  0.117613)"
      ]
     },
     "execution_count": 351,
     "metadata": {},
     "output_type": "execute_result"
    }
   ],
   "source": [
    "cat_features = ['home_ownership', 'verification_status','desc_cl', 'purpose', 'zip_code','addr_state','pub_rec_bankruptcies_cl']\n",
    "num_features=['int_rate_cl','emp_length_cl','annual_inc', 'dti', 'delinq_2yrs', 'earliest_cr_to_app','inq_last_6mths', \\\n",
    "                'mths_since_last_record_cl', 'mths_since_last_delinq_cl','open_acc','pub_rec','total_acc']\n",
    "\n",
    "more_value_features = []\n",
    "less_value_features = []\n",
    "\n",
    "\n",
    "for var in cat_features:\n",
    "    ValCounts=len(set(train[var]))\n",
    "    print(ValCounts)\n",
    "    if ValCounts>5:\n",
    "        more_value_features.append(var)\n",
    "    else:\n",
    "        less_value_features.append(var)\n",
    "\n",
    "less_value_features\n",
    "BinBadRate(train,'home_ownership', 'y')"
   ]
  },
  {
   "cell_type": "code",
   "execution_count": 370,
   "metadata": {},
   "outputs": [
    {
     "name": "stdout",
     "output_type": "stream",
     "text": [
      "home_ownership need to be combined due to 0 bad rate\n",
      "  home_ownership  total   bad  bad_rate\n",
      "1           NONE      3     0  0.000000\n",
      "0       MORTGAGE   7269   701  0.096437\n",
      "3            OWN   1411   158  0.111977\n",
      "4           RENT   8715  1025  0.117613\n",
      "2          OTHER     59     8  0.135593\n"
     ]
    },
    {
     "name": "stderr",
     "output_type": "stream",
     "text": [
      "/Users/rickie/anaconda3/lib/python3.6/site-packages/ipykernel_launcher.py:10: SettingWithCopyWarning: \n",
      "A value is trying to be set on a copy of a slice from a DataFrame.\n",
      "Try using .loc[row_indexer,col_indexer] = value instead\n",
      "\n",
      "See the caveats in the documentation: http://pandas.pydata.org/pandas-docs/stable/indexing.html#indexing-view-versus-copy\n",
      "  # Remove the CWD from sys.path while we load stuff.\n"
     ]
    },
    {
     "data": {
      "text/plain": [
       "['home_ownership_Bin']"
      ]
     },
     "execution_count": 370,
     "metadata": {},
     "output_type": "execute_result"
    }
   ],
   "source": [
    "\n",
    "var_bin_list = []\n",
    "for col in less_value_features:\n",
    "    binBadRate = BinBadRate(train, col, 'y')[0]\n",
    "    if min(binBadRate.values()) == 0:\n",
    "        print('{} need to be combined due to 0 bad rate'.format(col))\n",
    "        combine_bin = MergeBad0(train, col, 'y')\n",
    "        \n",
    "        newVar = col + '_Bin'\n",
    "        train[newVar] = train[col].map(lambda x:combine_bin[x])\n",
    "        var_bin_list.append(newVar)\n",
    "    if min(binBadRate.values()) == 1:\n",
    "        print('{} need to be combined due to 0 good rate'.format(col))\n",
    "        combine_bin = MergeBad0(train, col, 'y')\n",
    "        \n",
    "        newVar = col + '_Bin'\n",
    "        train[newVar] = train[col].map(lambda x:combine_bin[x])\n",
    "        var_bin_list.append(newVar)\n",
    "        print(merge_bin)\n",
    "less_value_features = [i for i in less_value_features if i + '_Bin' not in var_bin_list]\n",
    "var_bin_list\n"
   ]
  },
  {
   "cell_type": "code",
   "execution_count": 174,
   "metadata": {},
   "outputs": [
    {
     "data": {
      "text/plain": [
       "({'MORTGAGE': 0.096436923923510803,\n",
       "  'NONE': 0.0,\n",
       "  'OTHER': 0.13559322033898305,\n",
       "  'OWN': 0.11197732104890148,\n",
       "  'RENT': 0.11761331038439472},\n",
       "   home_ownership  total   bad  bad_rate\n",
       " 0       MORTGAGE   7269   701  0.096437\n",
       " 1           NONE      3     0  0.000000\n",
       " 2          OTHER     59     8  0.135593\n",
       " 3            OWN   1411   158  0.111977\n",
       " 4           RENT   8715  1025  0.117613)"
      ]
     },
     "execution_count": 174,
     "metadata": {},
     "output_type": "execute_result"
    }
   ],
   "source": [
    "def BinBadRate(df,col,target,grantRateIndicator=0):\n",
    "    total=df.groupby([col])[target].count()\n",
    "    total=pd.DataFrame({'total':total})\n",
    "    bad=df.groupby([col])[target].sum()\n",
    "    bad=pd.DataFrame({'bad':bad})\n",
    "    group=total.merge(bad,left_index=True,right_index=True,how='left')\n",
    "    group.reset_index(level=0,inplace=True)\n",
    "    group['bad_rate']=group.apply(lambda x:x.bad/x.total,axis=1)\n",
    "    dicts=dict(zip(group[col],group['bad_rate']))\n",
    "    if grantRateIndicator==0:\n",
    "        return (dicts, group)\n",
    "    N = sum(group['total'])\n",
    "    B = sum(group['bad'])\n",
    "    overallRate = B * 1.0 / N\n",
    "    return (dicts, group, overallRate)\n",
    "BinBadRate(train, 'home_ownership', 'y')"
   ]
  },
  {
   "cell_type": "code",
   "execution_count": 318,
   "metadata": {},
   "outputs": [
    {
     "name": "stdout",
     "output_type": "stream",
     "text": [
      "  home_ownership  total   bad  bad_rate\n",
      "1           NONE      3     0  0.000000\n",
      "0       MORTGAGE   7269   701  0.096437\n",
      "3            OWN   1411   158  0.111977\n",
      "4           RENT   8715  1025  0.117613\n",
      "2          OTHER     59     8  0.135593\n"
     ]
    },
    {
     "data": {
      "text/plain": [
       "{'MORTGAGE': 'Bin 0',\n",
       " 'NONE': 'Bin 0',\n",
       " 'OTHER': 'Bin 3',\n",
       " 'OWN': 'Bin 1',\n",
       " 'RENT': 'Bin 2'}"
      ]
     },
     "execution_count": 318,
     "metadata": {},
     "output_type": "execute_result"
    }
   ],
   "source": [
    "def MergeBad0(df,col,target):    \n",
    "    regroup = BinBadRate(df, col, target)[1]\n",
    "    regroup = regroup.sort_values(by  = 'bad_rate')\n",
    "    print(regroup)\n",
    "    col_regroup = [[i] for i in regroup[col]]\n",
    "    for i in range(regroup.shape[0]-1):\n",
    "        if regroup['bad_rate'][i+1] > 0:\n",
    "            break\n",
    "        col_regroup[i+1] = col_regroup[i] + col_regroup[i+1]\n",
    "        col_regroup.pop(i)\n",
    "    \n",
    "        \n",
    "            \n",
    "    newGroup = {}\n",
    "    for i in range(len(col_regroup)):\n",
    "        for g2 in col_regroup[i]:\n",
    "            newGroup[g2] = 'Bin '+str(i)\n",
    "            \n",
    "    return newGroup\n",
    "MergeBad0(train, 'home_ownership', 'y')"
   ]
  },
  {
   "cell_type": "code",
   "execution_count": 205,
   "metadata": {},
   "outputs": [
    {
     "data": {
      "text/plain": [
       "{'bad_rate': {'car': 0.084033613445378158,\n",
       "  'credit_card': 0.075739165654110971,\n",
       "  'debt_consolidation': 0.10549872122762148,\n",
       "  'educational': 0.18324607329842932,\n",
       "  'home_improvement': 0.10633116883116883,\n",
       "  'house': 0.083333333333333329,\n",
       "  'major_purchase': 0.082778306374881067,\n",
       "  'medical': 0.17275747508305647,\n",
       "  'moving': 0.15162454873646208,\n",
       "  'other': 0.12733887733887733,\n",
       "  'renewable_energy': 0.18181818181818182,\n",
       "  'small_business': 0.20666666666666667,\n",
       "  'vacation': 0.12380952380952381,\n",
       "  'wedding': 0.082405345211581285},\n",
       " 'encoding': 13256    0.105499\n",
       " 17411    0.105499\n",
       " 17304    0.151625\n",
       " 13930    0.127339\n",
       " 33548    0.127339\n",
       "            ...   \n",
       " 9400     0.105499\n",
       " 36322    0.075739\n",
       " 7044     0.105499\n",
       " 7208     0.105499\n",
       " 1355     0.105499\n",
       " Name: purpose, Length: 17457, dtype: float64}"
      ]
     },
     "execution_count": 205,
     "metadata": {},
     "output_type": "execute_result"
    }
   ],
   "source": [
    "def BadRateEncoding(df,col,target):\n",
    "    \n",
    "    regroup=BinBadRate(df,col,target)[1]\n",
    "    br_dict=regroup[[col,'bad_rate']].set_index([col]).to_dict(orient='index')\n",
    "    for k,v in br_dict.items():\n",
    "        br_dict[k]=v['bad_rate']\n",
    "    BadRateEncoding=df[col].map(lambda x:br_dict[x])\n",
    "    return {'encoding':BadRateEncoding, 'bad_rate':br_dict}\n",
    "\n",
    "BadRateEncoding(train,'purpose','y')\n",
    "\n"
   ]
  },
  {
   "cell_type": "code",
   "execution_count": 305,
   "metadata": {},
   "outputs": [
    {
     "name": "stderr",
     "output_type": "stream",
     "text": [
      "/Users/rickie/anaconda3/lib/python3.6/site-packages/ipykernel_launcher.py:4: SettingWithCopyWarning: \n",
      "A value is trying to be set on a copy of a slice from a DataFrame.\n",
      "Try using .loc[row_indexer,col_indexer] = value instead\n",
      "\n",
      "See the caveats in the documentation: http://pandas.pydata.org/pandas-docs/stable/indexing.html#indexing-view-versus-copy\n",
      "  after removing the cwd from sys.path.\n"
     ]
    },
    {
     "data": {
      "text/html": [
       "<div>\n",
       "<style>\n",
       "    .dataframe thead tr:only-child th {\n",
       "        text-align: right;\n",
       "    }\n",
       "\n",
       "    .dataframe thead th {\n",
       "        text-align: left;\n",
       "    }\n",
       "\n",
       "    .dataframe tbody tr th {\n",
       "        vertical-align: top;\n",
       "    }\n",
       "</style>\n",
       "<table border=\"1\" class=\"dataframe\">\n",
       "  <thead>\n",
       "    <tr style=\"text-align: right;\">\n",
       "      <th></th>\n",
       "      <th>member_id</th>\n",
       "      <th>loan_amnt</th>\n",
       "      <th>term</th>\n",
       "      <th>loan_status</th>\n",
       "      <th>int_rate</th>\n",
       "      <th>emp_length</th>\n",
       "      <th>home_ownership</th>\n",
       "      <th>annual_inc</th>\n",
       "      <th>verification_status</th>\n",
       "      <th>desc</th>\n",
       "      <th>...</th>\n",
       "      <th>dti_Bin</th>\n",
       "      <th>delinq_2yrs_Bin</th>\n",
       "      <th>earliest_cr_to_app</th>\n",
       "      <th>earliest_cr_to_app_Bin</th>\n",
       "      <th>inq_last_6mths_Bin</th>\n",
       "      <th>mths_since_last_record_cl_Bin</th>\n",
       "      <th>mths_since_last_delinq_cl_Bin</th>\n",
       "      <th>open_acc_Bin</th>\n",
       "      <th>pub_rec_Bin</th>\n",
       "      <th>total_acc_Bin</th>\n",
       "    </tr>\n",
       "  </thead>\n",
       "  <tbody>\n",
       "    <tr>\n",
       "      <th>13256</th>\n",
       "      <td>13257</td>\n",
       "      <td>10000</td>\n",
       "      <td>36 months</td>\n",
       "      <td>Fully Paid</td>\n",
       "      <td>9.99%</td>\n",
       "      <td>&lt; 1 year</td>\n",
       "      <td>RENT</td>\n",
       "      <td>85248.0</td>\n",
       "      <td>Source Verified</td>\n",
       "      <td>Borrower added on 06/14/11 &gt; I have some cre...</td>\n",
       "      <td>...</td>\n",
       "      <td>Bin 1</td>\n",
       "      <td>Bin 0</td>\n",
       "      <td>129</td>\n",
       "      <td>Bin 1</td>\n",
       "      <td>Bin 0</td>\n",
       "      <td>Bin -1</td>\n",
       "      <td>Bin -1</td>\n",
       "      <td>Bin 0</td>\n",
       "      <td>Bin 0</td>\n",
       "      <td>Bin 2</td>\n",
       "    </tr>\n",
       "    <tr>\n",
       "      <th>17411</th>\n",
       "      <td>17412</td>\n",
       "      <td>5000</td>\n",
       "      <td>36 months</td>\n",
       "      <td>Fully Paid</td>\n",
       "      <td>18.25%</td>\n",
       "      <td>2 years</td>\n",
       "      <td>RENT</td>\n",
       "      <td>50004.0</td>\n",
       "      <td>Source Verified</td>\n",
       "      <td>Borrower added on 03/31/11 &gt; I desire to uti...</td>\n",
       "      <td>...</td>\n",
       "      <td>Bin 0</td>\n",
       "      <td>Bin 0</td>\n",
       "      <td>46</td>\n",
       "      <td>Bin 0</td>\n",
       "      <td>Bin 1</td>\n",
       "      <td>Bin -1</td>\n",
       "      <td>Bin -1</td>\n",
       "      <td>Bin 0</td>\n",
       "      <td>Bin 0</td>\n",
       "      <td>Bin 0</td>\n",
       "    </tr>\n",
       "    <tr>\n",
       "      <th>17304</th>\n",
       "      <td>17305</td>\n",
       "      <td>1325</td>\n",
       "      <td>36 months</td>\n",
       "      <td>Charged Off</td>\n",
       "      <td>10.00%</td>\n",
       "      <td>&lt; 1 year</td>\n",
       "      <td>RENT</td>\n",
       "      <td>50400.0</td>\n",
       "      <td>Source Verified</td>\n",
       "      <td>NaN</td>\n",
       "      <td>...</td>\n",
       "      <td>Bin 2</td>\n",
       "      <td>Bin 0</td>\n",
       "      <td>141</td>\n",
       "      <td>Bin 2</td>\n",
       "      <td>Bin 1</td>\n",
       "      <td>Bin -1</td>\n",
       "      <td>Bin 2</td>\n",
       "      <td>Bin 0</td>\n",
       "      <td>Bin 0</td>\n",
       "      <td>Bin 2</td>\n",
       "    </tr>\n",
       "    <tr>\n",
       "      <th>13930</th>\n",
       "      <td>13931</td>\n",
       "      <td>2000</td>\n",
       "      <td>36 months</td>\n",
       "      <td>Charged Off</td>\n",
       "      <td>18.39%</td>\n",
       "      <td>1 year</td>\n",
       "      <td>RENT</td>\n",
       "      <td>24000.0</td>\n",
       "      <td>Not Verified</td>\n",
       "      <td>NaN</td>\n",
       "      <td>...</td>\n",
       "      <td>Bin 3</td>\n",
       "      <td>Bin 0</td>\n",
       "      <td>61</td>\n",
       "      <td>Bin 0</td>\n",
       "      <td>Bin 2</td>\n",
       "      <td>Bin -1</td>\n",
       "      <td>Bin -1</td>\n",
       "      <td>Bin 0</td>\n",
       "      <td>Bin 0</td>\n",
       "      <td>Bin 1</td>\n",
       "    </tr>\n",
       "    <tr>\n",
       "      <th>33548</th>\n",
       "      <td>33549</td>\n",
       "      <td>10000</td>\n",
       "      <td>36 months</td>\n",
       "      <td>Fully Paid</td>\n",
       "      <td>14.26%</td>\n",
       "      <td>&lt; 1 year</td>\n",
       "      <td>MORTGAGE</td>\n",
       "      <td>43200.0</td>\n",
       "      <td>Not Verified</td>\n",
       "      <td></td>\n",
       "      <td>...</td>\n",
       "      <td>Bin 0</td>\n",
       "      <td>Bin 0</td>\n",
       "      <td>158</td>\n",
       "      <td>Bin 2</td>\n",
       "      <td>Bin 2</td>\n",
       "      <td>Bin -1</td>\n",
       "      <td>Bin -1</td>\n",
       "      <td>Bin 0</td>\n",
       "      <td>Bin 0</td>\n",
       "      <td>Bin 0</td>\n",
       "    </tr>\n",
       "    <tr>\n",
       "      <th>...</th>\n",
       "      <td>...</td>\n",
       "      <td>...</td>\n",
       "      <td>...</td>\n",
       "      <td>...</td>\n",
       "      <td>...</td>\n",
       "      <td>...</td>\n",
       "      <td>...</td>\n",
       "      <td>...</td>\n",
       "      <td>...</td>\n",
       "      <td>...</td>\n",
       "      <td>...</td>\n",
       "      <td>...</td>\n",
       "      <td>...</td>\n",
       "      <td>...</td>\n",
       "      <td>...</td>\n",
       "      <td>...</td>\n",
       "      <td>...</td>\n",
       "      <td>...</td>\n",
       "      <td>...</td>\n",
       "      <td>...</td>\n",
       "      <td>...</td>\n",
       "    </tr>\n",
       "    <tr>\n",
       "      <th>9400</th>\n",
       "      <td>9401</td>\n",
       "      <td>3500</td>\n",
       "      <td>36 months</td>\n",
       "      <td>Fully Paid</td>\n",
       "      <td>5.42%</td>\n",
       "      <td>10+ years</td>\n",
       "      <td>MORTGAGE</td>\n",
       "      <td>48000.0</td>\n",
       "      <td>Not Verified</td>\n",
       "      <td>NaN</td>\n",
       "      <td>...</td>\n",
       "      <td>Bin 1</td>\n",
       "      <td>Bin 0</td>\n",
       "      <td>176</td>\n",
       "      <td>Bin 2</td>\n",
       "      <td>Bin 0</td>\n",
       "      <td>Bin -1</td>\n",
       "      <td>Bin -1</td>\n",
       "      <td>Bin 0</td>\n",
       "      <td>Bin 0</td>\n",
       "      <td>Bin 2</td>\n",
       "    </tr>\n",
       "    <tr>\n",
       "      <th>36322</th>\n",
       "      <td>36323</td>\n",
       "      <td>12000</td>\n",
       "      <td>36 months</td>\n",
       "      <td>Fully Paid</td>\n",
       "      <td>11.89%</td>\n",
       "      <td>2 years</td>\n",
       "      <td>MORTGAGE</td>\n",
       "      <td>45000.0</td>\n",
       "      <td>Not Verified</td>\n",
       "      <td>I have never missed a payment. I have good cre...</td>\n",
       "      <td>...</td>\n",
       "      <td>Bin 3</td>\n",
       "      <td>Bin 0</td>\n",
       "      <td>90</td>\n",
       "      <td>Bin 1</td>\n",
       "      <td>Bin 1</td>\n",
       "      <td>Bin -1</td>\n",
       "      <td>Bin -1</td>\n",
       "      <td>Bin 0</td>\n",
       "      <td>Bin 0</td>\n",
       "      <td>Bin 2</td>\n",
       "    </tr>\n",
       "    <tr>\n",
       "      <th>7044</th>\n",
       "      <td>7045</td>\n",
       "      <td>24000</td>\n",
       "      <td>36 months</td>\n",
       "      <td>Fully Paid</td>\n",
       "      <td>7.90%</td>\n",
       "      <td>3 years</td>\n",
       "      <td>MORTGAGE</td>\n",
       "      <td>153660.0</td>\n",
       "      <td>Verified</td>\n",
       "      <td>NaN</td>\n",
       "      <td>...</td>\n",
       "      <td>Bin 1</td>\n",
       "      <td>Bin 0</td>\n",
       "      <td>159</td>\n",
       "      <td>Bin 2</td>\n",
       "      <td>Bin 1</td>\n",
       "      <td>Bin -1</td>\n",
       "      <td>Bin -1</td>\n",
       "      <td>Bin 0</td>\n",
       "      <td>Bin 0</td>\n",
       "      <td>Bin 2</td>\n",
       "    </tr>\n",
       "    <tr>\n",
       "      <th>7208</th>\n",
       "      <td>7209</td>\n",
       "      <td>5025</td>\n",
       "      <td>36 months</td>\n",
       "      <td>Fully Paid</td>\n",
       "      <td>8.90%</td>\n",
       "      <td>4 years</td>\n",
       "      <td>MORTGAGE</td>\n",
       "      <td>70000.0</td>\n",
       "      <td>Source Verified</td>\n",
       "      <td>NaN</td>\n",
       "      <td>...</td>\n",
       "      <td>Bin 3</td>\n",
       "      <td>Bin 0</td>\n",
       "      <td>140</td>\n",
       "      <td>Bin 2</td>\n",
       "      <td>Bin 0</td>\n",
       "      <td>Bin -1</td>\n",
       "      <td>Bin -1</td>\n",
       "      <td>Bin 0</td>\n",
       "      <td>Bin 0</td>\n",
       "      <td>Bin 1</td>\n",
       "    </tr>\n",
       "    <tr>\n",
       "      <th>1355</th>\n",
       "      <td>1356</td>\n",
       "      <td>7000</td>\n",
       "      <td>36 months</td>\n",
       "      <td>Fully Paid</td>\n",
       "      <td>7.51%</td>\n",
       "      <td>4 years</td>\n",
       "      <td>MORTGAGE</td>\n",
       "      <td>67000.0</td>\n",
       "      <td>Not Verified</td>\n",
       "      <td>NaN</td>\n",
       "      <td>...</td>\n",
       "      <td>Bin 3</td>\n",
       "      <td>Bin 0</td>\n",
       "      <td>121</td>\n",
       "      <td>Bin 1</td>\n",
       "      <td>Bin 0</td>\n",
       "      <td>Bin -1</td>\n",
       "      <td>Bin -1</td>\n",
       "      <td>Bin 0</td>\n",
       "      <td>Bin 0</td>\n",
       "      <td>Bin 2</td>\n",
       "    </tr>\n",
       "  </tbody>\n",
       "</table>\n",
       "<p>17457 rows × 53 columns</p>\n",
       "</div>"
      ],
      "text/plain": [
       "       member_id  loan_amnt        term  loan_status int_rate emp_length  \\\n",
       "13256      13257      10000   36 months   Fully Paid    9.99%   < 1 year   \n",
       "17411      17412       5000   36 months   Fully Paid   18.25%    2 years   \n",
       "17304      17305       1325   36 months  Charged Off   10.00%   < 1 year   \n",
       "13930      13931       2000   36 months  Charged Off   18.39%     1 year   \n",
       "33548      33549      10000   36 months   Fully Paid   14.26%   < 1 year   \n",
       "...          ...        ...         ...          ...      ...        ...   \n",
       "9400        9401       3500   36 months   Fully Paid    5.42%  10+ years   \n",
       "36322      36323      12000   36 months   Fully Paid   11.89%    2 years   \n",
       "7044        7045      24000   36 months   Fully Paid    7.90%    3 years   \n",
       "7208        7209       5025   36 months   Fully Paid    8.90%    4 years   \n",
       "1355        1356       7000   36 months   Fully Paid    7.51%    4 years   \n",
       "\n",
       "      home_ownership  annual_inc verification_status  \\\n",
       "13256           RENT     85248.0     Source Verified   \n",
       "17411           RENT     50004.0     Source Verified   \n",
       "17304           RENT     50400.0     Source Verified   \n",
       "13930           RENT     24000.0        Not Verified   \n",
       "33548       MORTGAGE     43200.0        Not Verified   \n",
       "...              ...         ...                 ...   \n",
       "9400        MORTGAGE     48000.0        Not Verified   \n",
       "36322       MORTGAGE     45000.0        Not Verified   \n",
       "7044        MORTGAGE    153660.0            Verified   \n",
       "7208        MORTGAGE     70000.0     Source Verified   \n",
       "1355        MORTGAGE     67000.0        Not Verified   \n",
       "\n",
       "                                                    desc      ...        \\\n",
       "13256    Borrower added on 06/14/11 > I have some cre...      ...         \n",
       "17411    Borrower added on 03/31/11 > I desire to uti...      ...         \n",
       "17304                                                NaN      ...         \n",
       "13930                                                NaN      ...         \n",
       "33548                                                         ...         \n",
       "...                                                  ...      ...         \n",
       "9400                                                 NaN      ...         \n",
       "36322  I have never missed a payment. I have good cre...      ...         \n",
       "7044                                                 NaN      ...         \n",
       "7208                                                 NaN      ...         \n",
       "1355                                                 NaN      ...         \n",
       "\n",
       "      dti_Bin delinq_2yrs_Bin earliest_cr_to_app earliest_cr_to_app_Bin  \\\n",
       "13256   Bin 1           Bin 0                129                  Bin 1   \n",
       "17411   Bin 0           Bin 0                 46                  Bin 0   \n",
       "17304   Bin 2           Bin 0                141                  Bin 2   \n",
       "13930   Bin 3           Bin 0                 61                  Bin 0   \n",
       "33548   Bin 0           Bin 0                158                  Bin 2   \n",
       "...       ...             ...                ...                    ...   \n",
       "9400    Bin 1           Bin 0                176                  Bin 2   \n",
       "36322   Bin 3           Bin 0                 90                  Bin 1   \n",
       "7044    Bin 1           Bin 0                159                  Bin 2   \n",
       "7208    Bin 3           Bin 0                140                  Bin 2   \n",
       "1355    Bin 3           Bin 0                121                  Bin 1   \n",
       "\n",
       "       inq_last_6mths_Bin  mths_since_last_record_cl_Bin  \\\n",
       "13256               Bin 0                         Bin -1   \n",
       "17411               Bin 1                         Bin -1   \n",
       "17304               Bin 1                         Bin -1   \n",
       "13930               Bin 2                         Bin -1   \n",
       "33548               Bin 2                         Bin -1   \n",
       "...                   ...                            ...   \n",
       "9400                Bin 0                         Bin -1   \n",
       "36322               Bin 1                         Bin -1   \n",
       "7044                Bin 1                         Bin -1   \n",
       "7208                Bin 0                         Bin -1   \n",
       "1355                Bin 0                         Bin -1   \n",
       "\n",
       "       mths_since_last_delinq_cl_Bin  open_acc_Bin  pub_rec_Bin  total_acc_Bin  \n",
       "13256                         Bin -1         Bin 0        Bin 0          Bin 2  \n",
       "17411                         Bin -1         Bin 0        Bin 0          Bin 0  \n",
       "17304                          Bin 2         Bin 0        Bin 0          Bin 2  \n",
       "13930                         Bin -1         Bin 0        Bin 0          Bin 1  \n",
       "33548                         Bin -1         Bin 0        Bin 0          Bin 0  \n",
       "...                              ...           ...          ...            ...  \n",
       "9400                          Bin -1         Bin 0        Bin 0          Bin 2  \n",
       "36322                         Bin -1         Bin 0        Bin 0          Bin 2  \n",
       "7044                          Bin -1         Bin 0        Bin 0          Bin 2  \n",
       "7208                          Bin -1         Bin 0        Bin 0          Bin 1  \n",
       "1355                          Bin -1         Bin 0        Bin 0          Bin 2  \n",
       "\n",
       "[17457 rows x 53 columns]"
      ]
     },
     "execution_count": 305,
     "metadata": {},
     "output_type": "execute_result"
    }
   ],
   "source": [
    "br_encoding_dict={}\n",
    "for col in more_value_features:\n",
    "    br_encoding=BadRateEncoding(train,col,'y')\n",
    "    train[col+'_br_encoding']=br_encoding['encoding']\n",
    "    br_encoding_dict[col]=br_encoding['bad_rate']\n",
    "    num_features.append(col+'_br_encoding')\n",
    "train"
   ]
  },
  {
   "cell_type": "code",
   "execution_count": 292,
   "metadata": {},
   "outputs": [],
   "source": [
    "def SplitData(df,col,numberOfSplits):\n",
    "    df2=df.copy()\n",
    "    N=df2.shape[0]\n",
    "    n=N//numberOfSplits\n",
    "    SplitPointIndex=[i*n for i in range(1,numberOfSplits)]\n",
    "    rawValues=sorted(df[col])\n",
    "    SplitPoint=[rawValues[i] for i in SplitPointIndex]\n",
    "    SplitPoint=sorted(set(SplitPoint))\n",
    "    return SplitPoint\n",
    "#SplitData(train,'annual_inc',100)\n",
    "def AssignGroup(x,bin):\n",
    "    N=len(bin)\n",
    "    if x<=min(bin):\n",
    "        return min(bin)\n",
    "    elif x>max(bin):\n",
    "        return 10e10\n",
    "    else:\n",
    "        for i in range(N-1):\n",
    "            if bin[i]<x<=bin[i+1]:\n",
    "                return bin[i+1]\n",
    "            "
   ]
  },
  {
   "cell_type": "code",
   "execution_count": 293,
   "metadata": {},
   "outputs": [],
   "source": [
    "def AssignGroup(x, bin):\n",
    "    N = len(bin)\n",
    "    if x<=min(bin):\n",
    "        return min(bin)\n",
    "    elif x>max(bin):\n",
    "        return 10e10\n",
    "    else:\n",
    "        for i in range(N-1):\n",
    "            if bin[i] < x <= bin[i+1]:\n",
    "                return bin[i+1]\n"
   ]
  },
  {
   "cell_type": "code",
   "execution_count": 294,
   "metadata": {},
   "outputs": [],
   "source": [
    "def Chi2(df,total_col,bad_col,overall_rate):\n",
    "    df2=df.copy()\n",
    "    df2['expected']=df2[total_col].apply(lambda x:x*overall_rate)\n",
    "    combined=zip(df2['expected'],df2[bad_col])\n",
    "    chi=[(i[0]-i[1])**2/i[0] for i in combined]\n",
    "    chi2=sum(chi)\n",
    "    return chi2"
   ]
  },
  {
   "cell_type": "code",
   "execution_count": 295,
   "metadata": {},
   "outputs": [],
   "source": [
    "def AssignBin(x, cutOffPoints,special_attribute=[]):\n",
    "    '''\n",
    "    :param x: the value of variable\n",
    "    :param cutOffPoints: the ChiMerge result for continous variable\n",
    "    :param special_attribute:  the special attribute which should be assigned separately\n",
    "    :return: bin number, indexing from 0\n",
    "    for example, if cutOffPoints = [10,20,30], if x = 7, return Bin 0. If x = 35, return Bin 3\n",
    "    '''\n",
    "    numBin = len(cutOffPoints) + 1 + len(special_attribute)\n",
    "    if x in special_attribute:\n",
    "        i = special_attribute.index(x)+1\n",
    "        return 'Bin {}'.format(0-i)\n",
    "    if x<=cutOffPoints[0]:\n",
    "        return 'Bin 0'\n",
    "    elif x > cutOffPoints[-1]:\n",
    "        return 'Bin {}'.format(numBin-1)\n",
    "    else:\n",
    "        for i in range(0,numBin-1):\n",
    "            if cutOffPoints[i] < x <=  cutOffPoints[i+1]:\n",
    "                return 'Bin {}'.format(i+1)"
   ]
  },
  {
   "cell_type": "code",
   "execution_count": null,
   "metadata": {},
   "outputs": [],
   "source": [
    "#"
   ]
  },
  {
   "cell_type": "code",
   "execution_count": 296,
   "metadata": {},
   "outputs": [],
   "source": [
    "def ChiMerge(df, col, target, max_interval=5,special_attribute=[],minBinPcnt=0):\n",
    "    '''\n",
    "    :param df: 包含目标变量与分箱属性的数据框\n",
    "    :param col: 需要分箱的属性\n",
    "    :param target: 目标变量，取值0或1\n",
    "    :param max_interval: 最大分箱数。如果原始属性的取值个数低于该参数，不执行这段函数\n",
    "    :param special_attribute: 不参与分箱的属性取值\n",
    "    :param minBinPcnt：最小箱的占比，默认为0\n",
    "    :return: 分箱结果\n",
    "    '''\n",
    "    colLevels = sorted(set(df[col]))\n",
    "    N_distinct = len(colLevels)\n",
    "    if N_distinct <= max_interval:  #如果原始属性的取值个数低于max_interval，不执行这段函数\n",
    "        print(\"The number of original levels for {} is less than or equal to max intervals\".format(col))\n",
    "        return colLevels[:-1]\n",
    "    else:\n",
    "        if len(special_attribute)>=1:\n",
    "            df1 = df.loc[df[col].isin(special_attribute)]\n",
    "            df2 = df.loc[~df[col].isin(special_attribute)]\n",
    "        else:\n",
    "            df2 = df.copy()\n",
    "        N_distinct = len(set(df2[col]))\n",
    "\n",
    "        # 步骤一: 通过col对数据集进行分组，求出每组的总样本数与坏样本数\n",
    "        if N_distinct > 100:\n",
    "            split_x = SplitData(df2, col, 100)# 返回split_point\n",
    "            df2['temp'] = df2[col].map(lambda x: AssignGroup(x, split_x))# 给不同数值分配不同的split_point\n",
    "        else:\n",
    "            df2['temp'] = df[col]\n",
    "        # 总体bad rate将被用来计算expected bad count\n",
    "        (binBadRate, regroup, overallRate) = BinBadRate(df2, 'temp', target, grantRateIndicator=1)\n",
    "\n",
    "        # 首先，每个单独的属性值将被分为单独的一组\n",
    "        # 对属性值进行排序，然后两两组别进行合并\n",
    "        colLevels = sorted(set(df2['temp']))#排序\n",
    "        groupIntervals = [[i] for i in colLevels]\n",
    "\n",
    "        # 步骤二：建立循环，不断合并最优的相邻两个组别，直到：\n",
    "        # 1，最终分裂出来的分箱数<＝预设的最大分箱数\n",
    "        # 2，每箱的占比不低于预设值（可选）\n",
    "        # 3，每箱同时包含好坏样本\n",
    "        # 如果有特殊属性，那么最终分裂出来的分箱数＝预设的最大分箱数－特殊属性的个数\n",
    "        split_intervals = max_interval - len(special_attribute)\n",
    "        while (len(groupIntervals) > split_intervals):  # 终止条件: 当前分箱数＝预设的分箱数\n",
    "            # 每次循环时, 计算合并相邻组别后的卡方值。具有最小卡方值的合并方案，是最优方案\n",
    "            chisqList = []\n",
    "            for k in range(len(groupIntervals)-1):\n",
    "                temp_group = groupIntervals[k] + groupIntervals[k+1]\n",
    "                df2b = regroup.loc[regroup['temp'].isin(temp_group)]\n",
    "                chisq = Chi2(df2b, 'total', 'bad', overallRate)\n",
    "                chisqList.append(chisq)\n",
    "            best_comnbined = chisqList.index(min(chisqList))\n",
    "            groupIntervals[best_comnbined] = groupIntervals[best_comnbined] + groupIntervals[best_comnbined+1]\n",
    "            # after combining two intervals, we need to remove (next) one of them\n",
    "            groupIntervals.remove(groupIntervals[best_comnbined+1])\n",
    "        groupIntervals = [sorted(i) for i in groupIntervals]#针对合并后一箱有两个值的情况，数值排列\n",
    "        cutOffPoints = [max(i) for i in groupIntervals[:-1]]\n",
    "\n",
    "        # 检查是否有箱没有好或者坏样本。如果有，需要跟相邻的箱进行合并，直到每箱同时包含好坏样本\n",
    "        groupedvalues = df2['temp'].apply(lambda x: AssignBin(x, cutOffPoints))# 每个assign了bin,并编号\n",
    "        df2['temp_Bin'] = groupedvalues\n",
    "        (binBadRate,regroup) = BinBadRate(df2, 'temp_Bin', target)\n",
    "        [minBadRate, maxBadRate] = [min(binBadRate.values()),max(binBadRate.values())]\n",
    "        while minBadRate ==0 or maxBadRate == 1:\n",
    "            # 找出全部为好／坏样本的箱\n",
    "            indexForBad01 = regroup[regroup['bad_rate'].isin([0,1])].temp_Bin.tolist()\n",
    "            bin=indexForBad01[0]# ???已排序\n",
    "            # 如果是最后一箱，则需要和上一个箱进行合并，也就意味着分裂点cutOffPoints中的最后一个需要移除\n",
    "            if bin == max(regroup.temp_Bin):\n",
    "                cutOffPoints = cutOffPoints[:-1]\n",
    "            # 如果是第一箱，则需要和下一个箱进行合并，也就意味着分裂点cutOffPoints中的第一个需要移除\n",
    "            elif bin == min(regroup.temp_Bin):\n",
    "                cutOffPoints = cutOffPoints[1:]\n",
    "            # 如果是中间的某一箱，则需要和前后中的一个箱进行合并，依据是较小的卡方值\n",
    "            else:\n",
    "                # 和前一箱进行合并，并且计算卡方值\n",
    "                currentIndex = list(regroup.temp_Bin).index(bin)#目的是找到bin的index，为group后的list\n",
    "                prevIndex = list(regroup.temp_Bin)[currentIndex - 1]\n",
    "                df3 = df2.loc[df2['temp_Bin'].isin([prevIndex, bin])]\n",
    "                (binBadRate, df2b) = BinBadRate(df3, 'temp_Bin', target)\n",
    "                chisq1 = Chi2(df2b, 'total', 'bad', overallRate)\n",
    "                # 和后一箱进行合并，并且计算卡方值\n",
    "                laterIndex = list(regroup.temp_Bin)[currentIndex + 1]\n",
    "                df3b = df2.loc[df2['temp_Bin'].isin([laterIndex, bin])]\n",
    "                (binBadRate, df2b) = BinBadRate(df3b, 'temp_Bin', target)\n",
    "                chisq2 = Chi2(df2b, 'total', 'bad', overallRate)\n",
    "                if chisq1 < chisq2:\n",
    "                    cutOffPoints.remove(cutOffPoints[currentIndex - 1])\n",
    "                else:\n",
    "                    cutOffPoints.remove(cutOffPoints[currentIndex])\n",
    "            # 完成合并之后，需要再次计算新的分箱准则下，每箱是否同时包含好坏样本\n",
    "            groupedvalues = df2['temp'].apply(lambda x: AssignBin(x, cutOffPoints))\n",
    "            df2['temp_Bin'] = groupedvalues\n",
    "            (binBadRate, regroup) = BinBadRate(df2, 'temp_Bin', target)\n",
    "            [minBadRate, maxBadRate] = [min(binBadRate.values()), max(binBadRate.values())]\n",
    "        # 需要检查分箱后的最小占比\n",
    "        if minBinPcnt > 0:\n",
    "            groupedvalues = df2['temp'].apply(lambda x: AssignBin(x, cutOffPoints))\n",
    "            df2['temp_Bin'] = groupedvalues\n",
    "            valueCounts = groupedvalues.value_counts().to_frame()\n",
    "            valueCounts['pcnt'] = valueCounts['temp'].apply(lambda x: x * 1.0 / N)\n",
    "            valueCounts = valueCounts.sort_index()\n",
    "            minPcnt = min(valueCounts['pcnt'])\n",
    "            while minPcnt < 0.05 and len(cutOffPoints) > 2:\n",
    "                # 找出占比最小的箱\n",
    "                indexForMinPcnt = valueCounts[valueCounts['pcnt'] == minPcnt].index.tolist()[0]\n",
    "                # 如果占比最小的箱是最后一箱，则需要和上一个箱进行合并，也就意味着分裂点cutOffPoints中的最后一个需要移除\n",
    "                if indexForMinPcnt == max(valueCounts.index):\n",
    "                    cutOffPoints = cutOffPoints[:-1]\n",
    "                # 如果占比最小的箱是第一箱，则需要和下一个箱进行合并，也就意味着分裂点cutOffPoints中的第一个需要移除\n",
    "                elif indexForMinPcnt == min(valueCounts.index):\n",
    "                    cutOffPoints = cutOffPoints[1:]\n",
    "                # 如果占比最小的箱是中间的某一箱，则需要和前后中的一个箱进行合并，依据是较小的卡方值\n",
    "                else:\n",
    "                    # 和前一箱进行合并，并且计算卡方值\n",
    "                    currentIndex = list(valueCounts.index).index(indexForMinPcnt)\n",
    "                    prevIndex = list(valueCounts.index)[currentIndex - 1]\n",
    "                    df3 = df2.loc[df2['temp_Bin'].isin([prevIndex, indexForMinPcnt])]\n",
    "                    (binBadRate, df2b) = BinBadRate(df3, 'temp_Bin', target)\n",
    "                    chisq1 = Chi2(df2b, 'total', 'bad', overallRate)\n",
    "                    # 和后一箱进行合并，并且计算卡方值\n",
    "                    laterIndex = list(valueCounts.index)[currentIndex + 1]\n",
    "                    df3b = df2.loc[df2['temp_Bin'].isin([laterIndex, indexForMinPcnt])]\n",
    "                    (binBadRate, df2b) = BinBadRate(df3b, 'temp_Bin', target)\n",
    "                    chisq2 = Chi2(df2b, 'total', 'bad', overallRate)\n",
    "                    if chisq1 < chisq2:\n",
    "                        cutOffPoints.remove(cutOffPoints[currentIndex - 1])\n",
    "                    else:\n",
    "                        cutOffPoints.remove(cutOffPoints[currentIndex])\n",
    "        cutOffPoints = special_attribute + cutOffPoints\n",
    "        return cutOffPoints"
   ]
  },
  {
   "cell_type": "code",
   "execution_count": 306,
   "metadata": {},
   "outputs": [
    {
     "data": {
      "text/plain": [
       "['int_rate_cl',\n",
       " 'emp_length_cl',\n",
       " 'annual_inc',\n",
       " 'dti',\n",
       " 'delinq_2yrs',\n",
       " 'earliest_cr_to_app',\n",
       " 'inq_last_6mths',\n",
       " 'mths_since_last_record_cl',\n",
       " 'mths_since_last_delinq_cl',\n",
       " 'open_acc',\n",
       " 'pub_rec',\n",
       " 'total_acc',\n",
       " 'purpose_br_encoding',\n",
       " 'zip_code_br_encoding',\n",
       " 'addr_state_br_encoding']"
      ]
     },
     "execution_count": 306,
     "metadata": {},
     "output_type": "execute_result"
    }
   ],
   "source": [
    "def BadRateMonotone(df,sortByVar,target,special_attribute=[]):\n",
    "    df2=df.loc[~df[sortByVar].isin(special_attribute)]\n",
    "    if len(set(df2[sortByVar]))<=2:\n",
    "        return True\n",
    "    regroup=BinBadRate(df2,sortByVar,target)[1]\n",
    "    combined=zip(regroup['total'],regroup['bad'])\n",
    "    badRate=[i[1]/i[0] for i in combined]\n",
    "    BadRateMonotone= [badRate[i]<badRate[i+1] and badRate[i]>badRate[i-1] or badRate[i]>badRate[i+1] and badRate[i]<badRate[i-1] \n",
    "                      for i in range(1,len(badRate)-1)]\n",
    "    Monotone=len(set(BadRateMonotone))\n",
    "    if Monotone==1:\n",
    "        return True\n",
    "    else:\n",
    "        return False\n",
    "        \n",
    "num_features"
   ]
  },
  {
   "cell_type": "code",
   "execution_count": 371,
   "metadata": {},
   "outputs": [
    {
     "name": "stdout",
     "output_type": "stream",
     "text": [
      "int_rate_cl is in processing\n"
     ]
    },
    {
     "name": "stderr",
     "output_type": "stream",
     "text": [
      "/Users/rickie/anaconda3/lib/python3.6/site-packages/ipykernel_launcher.py:7: SettingWithCopyWarning: \n",
      "A value is trying to be set on a copy of a slice from a DataFrame.\n",
      "Try using .loc[row_indexer,col_indexer] = value instead\n",
      "\n",
      "See the caveats in the documentation: http://pandas.pydata.org/pandas-docs/stable/indexing.html#indexing-view-versus-copy\n",
      "  import sys\n",
      "/Users/rickie/anaconda3/lib/python3.6/site-packages/ipykernel_launcher.py:17: SettingWithCopyWarning: \n",
      "A value is trying to be set on a copy of a slice from a DataFrame.\n",
      "Try using .loc[row_indexer,col_indexer] = value instead\n",
      "\n",
      "See the caveats in the documentation: http://pandas.pydata.org/pandas-docs/stable/indexing.html#indexing-view-versus-copy\n",
      "/Users/rickie/anaconda3/lib/python3.6/site-packages/ipykernel_launcher.py:29: SettingWithCopyWarning: \n",
      "A value is trying to be set on a copy of a slice from a DataFrame.\n",
      "Try using .loc[row_indexer,col_indexer] = value instead\n",
      "\n",
      "See the caveats in the documentation: http://pandas.pydata.org/pandas-docs/stable/indexing.html#indexing-view-versus-copy\n"
     ]
    },
    {
     "name": "stdout",
     "output_type": "stream",
     "text": [
      "emp_length_cl is in processing\n"
     ]
    },
    {
     "name": "stderr",
     "output_type": "stream",
     "text": [
      "/Users/rickie/anaconda3/lib/python3.6/site-packages/ipykernel_launcher.py:61: SettingWithCopyWarning: \n",
      "A value is trying to be set on a copy of a slice from a DataFrame.\n",
      "Try using .loc[row_indexer,col_indexer] = value instead\n",
      "\n",
      "See the caveats in the documentation: http://pandas.pydata.org/pandas-docs/stable/indexing.html#indexing-view-versus-copy\n",
      "/Users/rickie/anaconda3/lib/python3.6/site-packages/ipykernel_launcher.py:21: SettingWithCopyWarning: \n",
      "A value is trying to be set on a copy of a slice from a DataFrame.\n",
      "Try using .loc[row_indexer,col_indexer] = value instead\n",
      "\n",
      "See the caveats in the documentation: http://pandas.pydata.org/pandas-docs/stable/indexing.html#indexing-view-versus-copy\n",
      "/Users/rickie/anaconda3/lib/python3.6/site-packages/ipykernel_launcher.py:26: SettingWithCopyWarning: \n",
      "A value is trying to be set on a copy of a slice from a DataFrame.\n",
      "Try using .loc[row_indexer,col_indexer] = value instead\n",
      "\n",
      "See the caveats in the documentation: http://pandas.pydata.org/pandas-docs/stable/indexing.html#indexing-view-versus-copy\n",
      "/Users/rickie/anaconda3/lib/python3.6/site-packages/ipykernel_launcher.py:31: SettingWithCopyWarning: \n",
      "A value is trying to be set on a copy of a slice from a DataFrame.\n",
      "Try using .loc[row_indexer,col_indexer] = value instead\n",
      "\n",
      "See the caveats in the documentation: http://pandas.pydata.org/pandas-docs/stable/indexing.html#indexing-view-versus-copy\n"
     ]
    },
    {
     "name": "stdout",
     "output_type": "stream",
     "text": [
      "annual_inc is in processing\n"
     ]
    },
    {
     "name": "stderr",
     "output_type": "stream",
     "text": [
      "/Users/rickie/anaconda3/lib/python3.6/site-packages/ipykernel_launcher.py:12: SettingWithCopyWarning: \n",
      "A value is trying to be set on a copy of a slice from a DataFrame.\n",
      "Try using .loc[row_indexer,col_indexer] = value instead\n",
      "\n",
      "See the caveats in the documentation: http://pandas.pydata.org/pandas-docs/stable/indexing.html#indexing-view-versus-copy\n",
      "  if sys.path[0] == '':\n"
     ]
    },
    {
     "name": "stdout",
     "output_type": "stream",
     "text": [
      "dti is in processing\n",
      "delinq_2yrs is in processing\n",
      "earliest_cr_to_app is in processing\n",
      "inq_last_6mths is in processing\n",
      "mths_since_last_record_cl is in processing\n"
     ]
    },
    {
     "name": "stderr",
     "output_type": "stream",
     "text": [
      "/Users/rickie/anaconda3/lib/python3.6/site-packages/ipykernel_launcher.py:27: SettingWithCopyWarning: \n",
      "A value is trying to be set on a copy of a slice from a DataFrame.\n",
      "Try using .loc[row_indexer,col_indexer] = value instead\n",
      "\n",
      "See the caveats in the documentation: http://pandas.pydata.org/pandas-docs/stable/indexing.html#indexing-view-versus-copy\n"
     ]
    },
    {
     "name": "stdout",
     "output_type": "stream",
     "text": [
      "mths_since_last_delinq_cl is in processing\n",
      "open_acc is in processing\n",
      "pub_rec is in processing\n",
      "The number of original levels for pub_rec is less than or equal to max intervals\n",
      "total_acc is in processing\n"
     ]
    }
   ],
   "source": [
    "continous_merged_dict = {}\n",
    "for col in num_features:\n",
    "    print(\"{} is in processing\".format(col))\n",
    "    max_interval=5\n",
    "    if -1 not in set(train[col]):\n",
    "        cutOff=ChiMerge(train,col,'y',max_interval=max_interval,special_attribute=[],minBinPcnt=0)\n",
    "        train[col+'_Bin']=train[col].apply(lambda x:AssignBin(x,cutOff,special_attribute=[]))\n",
    "        monotone=BadRateMonotone(train,col+'_Bin','y')\n",
    "        while (not monotone):\n",
    "            max_interval -=1\n",
    "            cutOff=ChiMerge(train,col,'y',max_interval=max_interval,special_attribute=[],minBinPcnt=0)\n",
    "            train[col+'_Bin']=train[col].apply(lambda x:AssignBin(x,cutOff,special_attribute=[]))\n",
    "            if max_interval==2:\n",
    "                break\n",
    "            monotone=BadRateMonotone(train,col+'_Bin','y')\n",
    "        newVar = col + '_Bin'\n",
    "        train[newVar] = train[col].map(lambda x: AssignBin(x, cutOff, special_attribute=[]))\n",
    "        var_bin_list.append(newVar)\n",
    "    else:\n",
    "        cutOff=ChiMerge(train,col,'y',max_interval=max_interval,special_attribute=[-1],minBinPcnt=0)\n",
    "        train[col+'_Bin']=train[col].apply(lambda x:AssignBin(x,cutOff,special_attribute=[-1]))\n",
    "        monotone=BadRateMonotone(train,col+'_Bin','y')\n",
    "        while (not monotone):\n",
    "            max_interval -=1\n",
    "            cutOff=ChiMerge(train,col,'y',max_interval=max_interval,special_attribute=[-1],minBinPcnt=0)\n",
    "            train[col+'_Bin']=train[col].apply(lambda x:AssignBin(x,cutOff,special_attribute=[-1]))\n",
    "            if max_interval==2:\n",
    "                break\n",
    "            monotone=BadRateMonotone(train,col+'_Bin','y')\n",
    "        newVar = col + '_Bin'\n",
    "        train[newVar] = train[col].map(lambda x: AssignBin(x, cutOff, special_attribute=[]))\n",
    "        var_bin_list.append(newVar)\n",
    "    continous_merged_dict[col] = cutOff"
   ]
  },
  {
   "cell_type": "code",
   "execution_count": 395,
   "metadata": {},
   "outputs": [],
   "source": [
    "def CalcWOE(df,col,target):\n",
    "    total=df.groupby(col)[target].count()\n",
    "    total=pd.DataFrame({'total':total})\n",
    "    bad=df.groupby(col)[target].sum()\n",
    "    bad=pd.DataFrame({'bad':bad})\n",
    "    regroup=total.merge(bad,left_index=True,right_index=True,how='left')\n",
    "    regroup.reset_index(level=0,inplace=True)\n",
    "    N=sum(regroup.total)\n",
    "    B=sum(regroup.bad)\n",
    "    regroup['good'] = regroup['total'] - regroup['bad']\n",
    "    G = N - B\n",
    "    regroup['bad_pcnt']=regroup.bad.apply(lambda x:x*1.0/B)\n",
    "    regroup['good_pcnt']=regroup.good.apply(lambda x:x*1.0/G)\n",
    "    regroup['WOE']=regroup.apply(lambda x: np.log(x.bad_pcnt*1.0/x.good_pcnt),axis=1)\n",
    "    WOE_dict=regroup[[col,'WOE']].set_index(col).to_dict(orient='index')\n",
    "    for k,v in WOE_dict.items():\n",
    "        WOE_dict[k]=v['WOE']\n",
    "    IV = regroup.apply(lambda x: (x.good_pcnt-x.bad_pcnt)*np.log(x.good_pcnt*1.0/x.bad_pcnt),axis = 1)\n",
    "    IV = sum(IV)\n",
    "    return {\"WOE\":WOE_dict,'IV':IV}\n"
   ]
  },
  {
   "cell_type": "code",
   "execution_count": 403,
   "metadata": {},
   "outputs": [
    {
     "data": {
      "text/plain": [
       "<Container object of 15 artists>"
      ]
     },
     "execution_count": 403,
     "metadata": {},
     "output_type": "execute_result"
    },
    {
     "data": {
      "image/png": "[encoded data removed]",
      "text/plain": [
       "<matplotlib.figure.Figure at 0x1a267eff60>"
      ]
     },
     "metadata": {},
     "output_type": "display_data"
    }
   ],
   "source": [
    "WOE_dict = {}\n",
    "IV_dict = {}\n",
    "\n",
    "all_var = var_bin_list  + less_value_features\n",
    "\n",
    "for var in all_var[1:]:\n",
    "    woe_iv=CalcWOE(train,var,'y')\n",
    "    WOE_dict[var]=woe_iv['WOE']\n",
    "    IV_dict[var]=woe_iv['IV']\n",
    "IV_dict_sorted=sorted(IV_dict.items(),key=lambda x:x[1],reverse=True)\n",
    "IV_values=[i[1] for i in IV_dict_sorted]\n",
    "IV_keys=[i[0] for i in IV_dict_sorted]\n",
    "plt.bar(range(len(IV_values)),IV_values)\n",
    "    "
   ]
  },
  {
   "cell_type": "markdown",
   "metadata": {},
   "source": [
    "## 多变量分析"
   ]
  },
  {
   "cell_type": "code",
   "execution_count": 408,
   "metadata": {},
   "outputs": [
    {
     "name": "stderr",
     "output_type": "stream",
     "text": [
      "/Users/rickie/anaconda3/lib/python3.6/site-packages/ipykernel_launcher.py:8: SettingWithCopyWarning: \n",
      "A value is trying to be set on a copy of a slice from a DataFrame.\n",
      "Try using .loc[row_indexer,col_indexer] = value instead\n",
      "\n",
      "See the caveats in the documentation: http://pandas.pydata.org/pandas-docs/stable/indexing.html#indexing-view-versus-copy\n",
      "  \n"
     ]
    }
   ],
   "source": [
    "high_IV={k:v for k,v in IV_dict.items() if v>=0.01}\n",
    "high_IV_sorted=sorted(high_IV.items(),key=lambda x:x[1],reverse=True)\n",
    "\n",
    "short_list=high_IV.keys()\n",
    "short_list_2=[]\n",
    "for var in short_list:\n",
    "    newVar=var+'_WOE'\n",
    "    train[newVar]=train[var].map(WOE_dict[var])\n",
    "    short_list_2.append(newVar)\n",
    "    "
   ]
  },
  {
   "cell_type": "code",
   "execution_count": 439,
   "metadata": {},
   "outputs": [
    {
     "data": {
      "text/plain": [
       "<matplotlib.axes._subplots.AxesSubplot at 0x1a29922198>"
      ]
     },
     "execution_count": 439,
     "metadata": {},
     "output_type": "execute_result"
    },
    {
     "data": {
      "image/png": "[encoded data removed]",
      "text/plain": [
       "<matplotlib.figure.Figure at 0x1a28e38710>"
      ]
     },
     "metadata": {},
     "output_type": "display_data"
    }
   ],
   "source": [
    "trainWOE=train[short_list_2]\n",
    "f, ax = plt.subplots(figsize=(8, 6))\n",
    "corr = trainWOE.corr()\n",
    "sns.heatmap(corr, mask=np.zeros_like(corr, dtype=np.bool), cmap=sns.diverging_palette(220, 10, as_cmap=True),square=True, ax=ax)\n"
   ]
  },
  {
   "cell_type": "code",
   "execution_count": 416,
   "metadata": {},
   "outputs": [
    {
     "data": {
      "text/plain": [
       "['int_rate_cl_Bin_WOE',\n",
       " 'annual_inc_Bin_WOE',\n",
       " 'inq_last_6mths_Bin_WOE',\n",
       " 'mths_since_last_record_cl_Bin_WOE',\n",
       " 'earliest_cr_to_app_Bin_WOE',\n",
       " 'total_acc_Bin_WOE',\n",
       " 'emp_length_cl_Bin_WOE',\n",
       " 'mths_since_last_delinq_cl_Bin_WOE',\n",
       " 'dti_Bin_WOE']"
      ]
     },
     "execution_count": 416,
     "metadata": {},
     "output_type": "execute_result"
    }
   ],
   "source": [
    "deleted_index = []\n",
    "cnt_vars = len(high_IV_sorted)\n",
    "for i in range(cnt_vars):\n",
    "    if i in deleted_index:\n",
    "        continue\n",
    "    x1=high_IV_sorted[i][0]+'_WOE'\n",
    "    for j in range(cnt_vars):\n",
    "        if i==j or j in deleted_index:\n",
    "            continue\n",
    "        y1=high_IV_sorted[j][0]+'_WOE'\n",
    "        roh=np.corrcoef(train[x1],train[y1])[0,1]\n",
    "        if abs(roh)>0.7:\n",
    "            x1_IV = high_IV_sorted[i][1]\n",
    "            y1_IV = high_IV_sorted[j][1]\n",
    "            if x1_IV>y1_IV:\n",
    "                deleted_index.append(j)\n",
    "            else:\n",
    "                deleted_index.append(i)\n",
    "\n",
    "multi_analysis_vars_1=[high_IV_sorted[i][0]+\"_WOE\" for i in range(cnt_vars) if i not in deleted_index]\n",
    "multi_analysis_vars_1\n"
   ]
  },
  {
   "cell_type": "code",
   "execution_count": 434,
   "metadata": {},
   "outputs": [],
   "source": [
    "from statsmodels.stats.outliers_influence import variance_inflation_factor\n",
    "\n",
    "X = np.matrix(train[multi_analysis_vars_1])\n",
    "VIF_list=[variance_inflation_factor(X,i) for i in range(np.shape(X)[1])]\n",
    "VIF_list\n",
    "multi_analysis = multi_analysis_vars_1"
   ]
  },
  {
   "cell_type": "code",
   "execution_count": null,
   "metadata": {},
   "outputs": [],
   "source": []
  }
 ],
 "metadata": {
  "kernelspec": {
   "display_name": "Python 3",
   "language": "python",
   "name": "python3"
  },
  "language_info": {
   "codemirror_mode": {
    "name": "ipython",
    "version": 3
   },
   "file_extension": ".py",
   "mimetype": "text/x-python",
   "name": "python",
   "nbconvert_exporter": "python",
   "pygments_lexer": "ipython3",
   "version": "3.6.3"
  }
 },
 "nbformat": 4,
 "nbformat_minor": 2
}
